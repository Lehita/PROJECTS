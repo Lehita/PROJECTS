{
 "cells": [
  {
   "cell_type": "code",
   "execution_count": 1,
   "metadata": {},
   "outputs": [],
   "source": [
    "#importing library\n",
    "import random"
   ]
  },
  {
   "cell_type": "code",
   "execution_count": 2,
   "metadata": {},
   "outputs": [
    {
     "data": {
      "text/plain": [
       "1"
      ]
     },
     "execution_count": 2,
     "metadata": {},
     "output_type": "execute_result"
    }
   ],
   "source": [
    "#generating the random number\n",
    "num = random.randint(0,20)\n",
    "num"
   ]
  },
  {
   "cell_type": "code",
   "execution_count": 3,
   "metadata": {},
   "outputs": [
    {
     "name": "stdout",
     "output_type": "stream",
     "text": [
      "Guess the number: 8\n",
      "Welp! Your guess is too high.\n"
     ]
    }
   ],
   "source": [
    "#user input\n",
    "guess_str = input(\"Guess the number: \")\n",
    "#function to check the user input\n",
    "def check_user_input(guess_str):\n",
    "    try:\n",
    "        guess_str = int(guess_str)\n",
    "    except ValueError:\n",
    "        try:\n",
    "            guess_str = float(guess_str)\n",
    "            print(\"Error! Decimal detected. Input must be an integer.\")\n",
    "        except ValueError:\n",
    "            print(\"Error! Invalid input. Input must be an integer.\")\n",
    "#calling the function\n",
    "check_user_input(guess_str)\n",
    "#converting the user input to an integer object\n",
    "guess_num = int(guess_str)\n",
    "#comparing the random number and the user's guess.\n",
    "if guess_num < num:\n",
    "    print(\"Oh no! Your guess is too low.\")\n",
    "elif guess_num > num:\n",
    "    print(\"Welp! Your guess is too high.\")\n",
    "else:\n",
    "    print(\"Correct! Nice guessing skills.\")"
   ]
  }
 ],
 "metadata": {
  "kernelspec": {
   "display_name": "Python 3",
   "language": "python",
   "name": "python3"
  },
  "language_info": {
   "codemirror_mode": {
    "name": "ipython",
    "version": 3
   },
   "file_extension": ".py",
   "mimetype": "text/x-python",
   "name": "python",
   "nbconvert_exporter": "python",
   "pygments_lexer": "ipython3",
   "version": "3.7.6"
  }
 },
 "nbformat": 4,
 "nbformat_minor": 4
}
