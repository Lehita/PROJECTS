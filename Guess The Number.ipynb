{
 "cells": [
  {
   "cell_type": "code",
   "execution_count": 1,
   "metadata": {},
   "outputs": [],
   "source": [
    "import random"
   ]
  },
  {
   "cell_type": "code",
   "execution_count": 2,
   "metadata": {},
   "outputs": [
    {
     "name": "stdout",
     "output_type": "stream",
     "text": [
      "13\n"
     ]
    }
   ],
   "source": [
    "num = random.randint(0,20)\n",
    "print(num)"
   ]
  },
  {
   "cell_type": "code",
   "execution_count": 3,
   "metadata": {},
   "outputs": [
    {
     "name": "stdout",
     "output_type": "stream",
     "text": [
      "Guess the number: 7\n",
      "Oh no! Your guess is too low.\n"
     ]
    }
   ],
   "source": [
    "guess_str = input(\"Guess the number: \")\n",
    "def check_user_input(guess_str):\n",
    "    try:\n",
    "        guess_str = int(guess_str)\n",
    "    except ValueError:\n",
    "        try:\n",
    "            guess_str = float(guess_str)\n",
    "            print(\"Error! Decimal detected. Input must be an integer.\")\n",
    "        except ValueError:\n",
    "            print(\"Error! Invalid input. Input must be an integer.\")\n",
    "check_user_input(guess_str)\n",
    "guess_num = int(guess_str)\n",
    "if guess_num < num:\n",
    "    print(\"Oh no! Your guess is too low.\")\n",
    "elif guess_num > num:\n",
    "    print(\"Welp! Your guess is too high.\")\n",
    "else:\n",
    "    print(\"Correct! Nice guessing skills.\")"
   ]
  }
 ],
 "metadata": {
  "kernelspec": {
   "display_name": "Python 3",
   "language": "python",
   "name": "python3"
  },
  "language_info": {
   "codemirror_mode": {
    "name": "ipython",
    "version": 3
   },
   "file_extension": ".py",
   "mimetype": "text/x-python",
   "name": "python",
   "nbconvert_exporter": "python",
   "pygments_lexer": "ipython3",
   "version": "3.7.6"
  }
 },
 "nbformat": 4,
 "nbformat_minor": 4
}
