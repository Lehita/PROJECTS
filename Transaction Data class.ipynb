{
 "cells": [
  {
   "cell_type": "code",
   "execution_count": 1,
   "metadata": {},
   "outputs": [],
   "source": [
    "import datetime"
   ]
  },
  {
   "cell_type": "code",
   "execution_count": 2,
   "metadata": {},
   "outputs": [],
   "source": [
    "class transaction:\n",
    "    all_trans = []\n",
    "    credit = 0\n",
    "    debit = 0\n",
    "    def __init__(self, start_tup, end_tup, amount: float, description: str, payment_type: str):\n",
    "        ''' Description is an argument that describes the transaction whether it is a transcation of goods, services\n",
    "        or financial asset.\n",
    "        Start tup is a tuple containing the year, month and date of the start date.\n",
    "        End tup is a tuple containing the year, month and date of the end date.\n",
    "        Amount is the money exchanged during the transaction.\n",
    "        Payment type indicates whether the transaction was done on credit or debit.'''\n",
    "        #Run validations to received arguments.\n",
    "            #validating amount, description and payment type.\n",
    "        assert (type(amount) == float) or (type(amount) == int), f\"Amount {amount} is not an integer or float.\"\n",
    "        assert type(description) == str, \"Description argument must be a string.\"\n",
    "        assert type(payment_type) == str, \"Payment type must be a string.\"\n",
    "        assert amount >= 0, \"Amount must be a positive number.\"\n",
    "        assert description in [\"goods\", \"services\", \"financial asset\"], \"Description can either be goods, services or financial assets. String must be in lowercase.\"\n",
    "        assert payment_type in [\"credit\", \"debit\"], \"Payment type can either be credit or debit. String must be in lowercase.\"\n",
    "        #validating start tup.\n",
    "        assert type(start_tup) == tuple, \"Start date must be a tuple.\"\n",
    "        assert len(start_tup) == 3, \"Start date must have 3 items.\"\n",
    "        for i in start_tup:\n",
    "            assert type(i) == int, \"Items in start date must be integers of type (int).\"\n",
    "        assert len(str(start_tup[0])) == 4, \"The first item in start date must be a year of four digits.\"\n",
    "        assert len(str(start_tup[1])) <= 2, \"The second item in start date must be a month of one or two digits.\"\n",
    "        assert len(str(start_tup[2])) <= 2, \"The third item in start date must be a day of one or two digits.\"\n",
    "        #validating end tup.\n",
    "        assert type(end_tup) == tuple, \"End date must be a tuple.\"\n",
    "        assert len(end_tup) == 3, \"End date must have 3 items.\"\n",
    "        for i in end_tup:\n",
    "            assert type(i) == int, \"Items in end date must be integers of type (int).\"\n",
    "        assert len(str(end_tup[0])) == 4, \"The first item in end date must be a year of four digits.\"\n",
    "        assert len(str(end_tup[1])) <= 2, \"The second item in end date must be a month of one or two digits.\"\n",
    "        assert len(str(end_tup[2])) <= 2, \"The third item in end date must be a day of one or two digits.\"\n",
    "        \n",
    "        #assign to self object.\n",
    "        self.start_tup = start_tup\n",
    "        self.end_tup = end_tup\n",
    "        self.amount = amount\n",
    "        self.description = description\n",
    "        self.payment_type = payment_type\n",
    "        #appending each instance to the all_trans list.\n",
    "        transaction.all_trans.append(self)\n",
    "    \n",
    "    def start_date(self):\n",
    "        '''Start date is the transaction date i.e. the date at which trade occurs.'''\n",
    "        #this method returns the start date of the transaction in datetime format.\n",
    "        year = self.start_tup[0]\n",
    "        month = self.start_tup[1]\n",
    "        day = self.start_tup[2]\n",
    "        return f\"Start date of transaction is: {datetime.date(year,month,day)}\"  \n",
    "        \n",
    "    def end_date(self):\n",
    "        '''End date is the settlement date i.e. the date at which the seller receives payment.'''\n",
    "        #this method returns the end date of transaction in datetime format.\n",
    "        year = self.end_tup[0]\n",
    "        month = self.end_tup[1]\n",
    "        day = self.end_tup[2]\n",
    "        return f\"End date of transaction is: {datetime.date(year,month,day)}\"\n",
    "    \n",
    "    def count(self):\n",
    "        #this method returns the total number of transactions made.\n",
    "        return len(transaction.all_trans)\n",
    "    \n",
    "    def count_credit(self): \n",
    "        #this method returns the number of credit transactions.\n",
    "        for i in transaction.all_trans:\n",
    "            if i.payment_type == \"credit\":\n",
    "                transaction.credit += 1\n",
    "        return transaction.credit\n",
    "    \n",
    "    def count_debit(self):\n",
    "        #this method returns the number of debit transactions.\n",
    "        for i in transaction.all_trans:\n",
    "            if i.payment_type == \"debit\":\n",
    "                transaction.debit += 1\n",
    "        return transaction.debit\n",
    "    \n",
    "    def frequent_transaction(self):\n",
    "        #this method returns the most frequent transaction made. \n",
    "        desc_dict = {'goods': 0, 'services': 0, 'financial asset': 0}\n",
    "        for i in transaction.all_trans:\n",
    "            if i.description == 'goods':\n",
    "                desc_dict['goods'] += 1\n",
    "            elif i.description == 'services':\n",
    "                desc_dict['services'] += 1\n",
    "            else:\n",
    "                desc_dict['financial asset'] += 1\n",
    "        return max(desc_dict, key=desc_dict.get)\n",
    "            \n",
    "        \n",
    "         \n",
    "         "
   ]
  },
  {
   "cell_type": "code",
   "execution_count": 3,
   "metadata": {},
   "outputs": [],
   "source": [
    "first = transaction((1965,2,25),(1966,12,24),10000,'goods','credit')"
   ]
  },
  {
   "cell_type": "code",
   "execution_count": 4,
   "metadata": {},
   "outputs": [],
   "source": [
    "second = transaction((2012,7,9),(2014,8,22),300,'services','debit')"
   ]
  },
  {
   "cell_type": "code",
   "execution_count": 5,
   "metadata": {},
   "outputs": [],
   "source": [
    "third = transaction((2022,6,24),(2024,12,31),5000000,'financial asset','debit')"
   ]
  },
  {
   "cell_type": "code",
   "execution_count": 6,
   "metadata": {},
   "outputs": [],
   "source": [
    "fourth = transaction((2020,5,6),(2020,11,22),3000,'goods','credit')"
   ]
  },
  {
   "cell_type": "code",
   "execution_count": 7,
   "metadata": {},
   "outputs": [
    {
     "data": {
      "text/plain": [
       "4"
      ]
     },
     "execution_count": 7,
     "metadata": {},
     "output_type": "execute_result"
    }
   ],
   "source": [
    "fourth.count()"
   ]
  },
  {
   "cell_type": "code",
   "execution_count": 8,
   "metadata": {},
   "outputs": [
    {
     "data": {
      "text/plain": [
       "'goods'"
      ]
     },
     "execution_count": 8,
     "metadata": {},
     "output_type": "execute_result"
    }
   ],
   "source": [
    "fourth.frequent_transaction()"
   ]
  },
  {
   "cell_type": "code",
   "execution_count": 9,
   "metadata": {},
   "outputs": [
    {
     "data": {
      "text/plain": [
       "2"
      ]
     },
     "execution_count": 9,
     "metadata": {},
     "output_type": "execute_result"
    }
   ],
   "source": [
    "fourth.count_debit()"
   ]
  },
  {
   "cell_type": "code",
   "execution_count": 10,
   "metadata": {},
   "outputs": [
    {
     "data": {
      "text/plain": [
       "2"
      ]
     },
     "execution_count": 10,
     "metadata": {},
     "output_type": "execute_result"
    }
   ],
   "source": [
    "fourth.count_credit()"
   ]
  },
  {
   "cell_type": "code",
   "execution_count": 11,
   "metadata": {},
   "outputs": [
    {
     "data": {
      "text/plain": [
       "'Start date of transaction is: 2020-05-06'"
      ]
     },
     "execution_count": 11,
     "metadata": {},
     "output_type": "execute_result"
    }
   ],
   "source": [
    "fourth.start_date()"
   ]
  },
  {
   "cell_type": "code",
   "execution_count": 12,
   "metadata": {},
   "outputs": [
    {
     "data": {
      "text/plain": [
       "'End date of transaction is: 2020-11-22'"
      ]
     },
     "execution_count": 12,
     "metadata": {},
     "output_type": "execute_result"
    }
   ],
   "source": [
    "fourth.end_date()"
   ]
  },
  {
   "cell_type": "code",
   "execution_count": 13,
   "metadata": {},
   "outputs": [
    {
     "data": {
      "text/plain": [
       "'Start date of transaction is: 2022-06-24'"
      ]
     },
     "execution_count": 13,
     "metadata": {},
     "output_type": "execute_result"
    }
   ],
   "source": [
    "third.start_date()"
   ]
  },
  {
   "cell_type": "code",
   "execution_count": null,
   "metadata": {},
   "outputs": [],
   "source": []
  }
 ],
 "metadata": {
  "kernelspec": {
   "display_name": "Python 3",
   "language": "python",
   "name": "python3"
  },
  "language_info": {
   "codemirror_mode": {
    "name": "ipython",
    "version": 3
   },
   "file_extension": ".py",
   "mimetype": "text/x-python",
   "name": "python",
   "nbconvert_exporter": "python",
   "pygments_lexer": "ipython3",
   "version": "3.7.6"
  }
 },
 "nbformat": 4,
 "nbformat_minor": 4
}
