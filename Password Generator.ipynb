{
 "cells": [
  {
   "cell_type": "code",
   "execution_count": 1,
   "metadata": {},
   "outputs": [],
   "source": [
    "#importing the required libraries.\n",
    "import random\n",
    "import string"
   ]
  },
  {
   "cell_type": "code",
   "execution_count": 2,
   "metadata": {},
   "outputs": [
    {
     "name": "stdout",
     "output_type": "stream",
     "text": [
      "Hello! Welcome to Finesse Online Password Generator.\n",
      "Kindly type in the desired length of your password: 14\n"
     ]
    }
   ],
   "source": [
    "#generating the length of the password whilst making sure it is of type int.\n",
    "length = input(\"Hello! Welcome to Finesse Online Password Generator.\\nKindly type in the desired length of your password: \")\n",
    "def check_user_input(length):\n",
    "    try:\n",
    "        length = int(length)\n",
    "    except ValueError:\n",
    "        try:\n",
    "            length = float(length)\n",
    "            print(\"Error! Decimal detected. Input must be an integer.\")\n",
    "        except ValueError:\n",
    "            print(\"Error! Invalid input. Input must be an integer.\")\n",
    "check_user_input(length)\n",
    "length = int(length)"
   ]
  },
  {
   "cell_type": "code",
   "execution_count": 3,
   "metadata": {},
   "outputs": [
    {
     "name": "stdout",
     "output_type": "stream",
     "text": [
      "How many letters do you want in your password? 9\n"
     ]
    }
   ],
   "source": [
    "#generating the number of letters in the password whilst making sure it is of type int.\n",
    "letter_num = input(\"How many letters do you want in your password? \")\n",
    "check_user_input(letter_num)\n",
    "letter_num = int(letter_num)"
   ]
  },
  {
   "cell_type": "code",
   "execution_count": 4,
   "metadata": {},
   "outputs": [
    {
     "name": "stdout",
     "output_type": "stream",
     "text": [
      "How many numbers do you want in your password? 1\n"
     ]
    }
   ],
   "source": [
    "#generating the number of digits in the password whilst making sure it is of type int.\n",
    "num = input(\"How many numbers do you want in your password? \")\n",
    "check_user_input(num)\n",
    "num = int(num)"
   ]
  },
  {
   "cell_type": "code",
   "execution_count": 5,
   "metadata": {},
   "outputs": [],
   "source": [
    "#making sure the length of password is a minimum of 6 characters long.\n",
    "if length < 6:\n",
    "    print(\"Error! Password should contain at least 6 characters.\")\n",
    "else: #making sure the sum of desired letters and numbers do not exceed nor is equal to the length of password.\n",
    "    if letter_num + num > length:\n",
    "        print(\"Error! Sum of letter and number is more than length of password.\")\n",
    "    elif letter_num + num == length:\n",
    "        print(\"Error! Sum of letter and number is equal to length of password. Password must contain symbol.\")\n",
    "    else: #generating the number of symbols in the password.\n",
    "        symbol_num = length - (letter_num + num)"
   ]
  },
  {
   "cell_type": "code",
   "execution_count": 6,
   "metadata": {},
   "outputs": [
    {
     "data": {
      "text/plain": [
       "['L', 'x', 'h', 'Z', 'r', 'X', 'o', 's', 'I']"
      ]
     },
     "execution_count": 6,
     "metadata": {},
     "output_type": "execute_result"
    }
   ],
   "source": [
    "#generating a list of randomly selected letters of length previously specified.\n",
    "letters = string.ascii_letters #builds a list of all possible letters.\n",
    "gen_letters = random.choices(letters, k=letter_num)\n",
    "gen_letters"
   ]
  },
  {
   "cell_type": "code",
   "execution_count": 7,
   "metadata": {},
   "outputs": [
    {
     "data": {
      "text/plain": [
       "['2']"
      ]
     },
     "execution_count": 7,
     "metadata": {},
     "output_type": "execute_result"
    }
   ],
   "source": [
    "#generating a list of randomly selected numbers of length previously specified.\n",
    "num_list = string.digits #builds a list of all possible digits.\n",
    "gen_num = random.choices(num_list, k=num)\n",
    "gen_num"
   ]
  },
  {
   "cell_type": "code",
   "execution_count": 8,
   "metadata": {},
   "outputs": [
    {
     "data": {
      "text/plain": [
       "['+', '$', '[', '=']"
      ]
     },
     "execution_count": 8,
     "metadata": {},
     "output_type": "execute_result"
    }
   ],
   "source": [
    "#generating a list of randomly selected symbols of length previously calculated.\n",
    "symbols = string.punctuation #bulds a list of all possible symbols.\n",
    "gen_symbols = random.choices(symbols, k=symbol_num)\n",
    "gen_symbols"
   ]
  },
  {
   "cell_type": "code",
   "execution_count": 9,
   "metadata": {},
   "outputs": [
    {
     "data": {
      "text/plain": [
       "'Zh[2+XLxs$Io=r'"
      ]
     },
     "execution_count": 9,
     "metadata": {},
     "output_type": "execute_result"
    }
   ],
   "source": [
    "#generates the password.\n",
    "final_list = gen_letters + gen_num + gen_symbols #combines the three lists created in the above cells.\n",
    "random.shuffle(final_list) #shuffles the elements in the final list.\n",
    "password = ''.join(final_list) #joins the elements in the shuffled list to form a single string which is the password.\n",
    "password"
   ]
  }
 ],
 "metadata": {
  "kernelspec": {
   "display_name": "Python 3",
   "language": "python",
   "name": "python3"
  },
  "language_info": {
   "codemirror_mode": {
    "name": "ipython",
    "version": 3
   },
   "file_extension": ".py",
   "mimetype": "text/x-python",
   "name": "python",
   "nbconvert_exporter": "python",
   "pygments_lexer": "ipython3",
   "version": "3.7.6"
  }
 },
 "nbformat": 4,
 "nbformat_minor": 4
}
